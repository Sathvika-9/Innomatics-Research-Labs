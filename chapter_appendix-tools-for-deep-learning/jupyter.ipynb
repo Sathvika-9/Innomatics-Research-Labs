{
  "cells": [
    {
      "cell_type": "markdown",
      "metadata": {
        "id": "view-in-github",
        "colab_type": "text"
      },
      "source": [
        "<a href=\"https://colab.research.google.com/github/Sathvika-9/Innomatics-Research-Labs/blob/main/chapter_appendix-tools-for-deep-learning/jupyter.ipynb\" target=\"_parent\"><img src=\"https://colab.research.google.com/assets/colab-badge.svg\" alt=\"Open In Colab\"/></a>"
      ]
    },
    {
      "cell_type": "markdown",
      "id": "31d9a4c9",
      "metadata": {
        "origin_pos": 0,
        "id": "31d9a4c9"
      },
      "source": [
        "# Using Jupyter Notebooks\n",
        ":label:`sec_jupyter`\n",
        "\n",
        "\n",
        "This section describes how to edit and run the code\n",
        "in each section of this book\n",
        "using the Jupyter Notebook. Make sure you have\n",
        "installed Jupyter and downloaded the\n",
        "code as described in\n",
        ":ref:`chap_installation`.\n",
        "If you want to know more about Jupyter see the excellent tutorial in\n",
        "their [documentation](https://jupyter.readthedocs.io/en/latest/).\n",
        "\n",
        "\n",
        "## Editing and Running the Code Locally\n",
        "\n",
        "Suppose that the local path of the book's code is `xx/yy/d2l-en/`. Use the shell to change the directory to this path (`cd xx/yy/d2l-en`) and run the command `jupyter notebook`. If your browser does not do this automatically, open http://localhost:8888 and you will see the interface of Jupyter and all the folders containing the code of the book, as shown in :numref:`fig_jupyter00`.\n",
        "\n",
        "![The folders containing the code of this book.](https://github.com/d2l-ai/d2l-en-colab/blob/master/img/jupyter00.png?raw=1)\n",
        ":width:`600px`\n",
        ":label:`fig_jupyter00`\n",
        "\n",
        "\n",
        "You can access the notebook files by clicking on the folder displayed on the webpage.\n",
        "They usually have the suffix \".ipynb\".\n",
        "For the sake of brevity, we create a temporary \"test.ipynb\" file.\n",
        "The content displayed after you click it is\n",
        "shown in :numref:`fig_jupyter01`.\n",
        "This notebook includes a markdown cell and a code cell. The content in the markdown cell includes \"This Is a Title\" and \"This is text.\".\n",
        "The code cell contains two lines of Python code.\n",
        "\n",
        "![Markdown and code cells in the \"text.ipynb\" file.](https://github.com/d2l-ai/d2l-en-colab/blob/master/img/jupyter01.png?raw=1)\n",
        ":width:`600px`\n",
        ":label:`fig_jupyter01`\n",
        "\n",
        "\n",
        "Double click on the markdown cell to enter edit mode.\n",
        "Add a new text string \"Hello world.\" at the end of the cell, as shown in :numref:`fig_jupyter02`.\n",
        "\n",
        "![Edit the markdown cell.](https://github.com/d2l-ai/d2l-en-colab/blob/master/img/jupyter02.png?raw=1)\n",
        ":width:`600px`\n",
        ":label:`fig_jupyter02`\n",
        "\n",
        "\n",
        "As demonstrated in :numref:`fig_jupyter03`,\n",
        "click \"Cell\" $\\rightarrow$ \"Run Cells\" in the menu bar to run the edited cell.\n",
        "\n",
        "![Run the cell.](https://github.com/d2l-ai/d2l-en-colab/blob/master/img/jupyter03.png?raw=1)\n",
        ":width:`600px`\n",
        ":label:`fig_jupyter03`\n",
        "\n",
        "After running, the markdown cell is shown in :numref:`fig_jupyter04`.\n",
        "\n",
        "![The markdown cell after running.](https://github.com/d2l-ai/d2l-en-colab/blob/master/img/jupyter04.png?raw=1)\n",
        ":width:`600px`\n",
        ":label:`fig_jupyter04`\n",
        "\n",
        "\n",
        "Next, click on the code cell. Multiply the elements by 2 after the last line of code, as shown in :numref:`fig_jupyter05`.\n",
        "\n",
        "![Edit the code cell.](https://github.com/d2l-ai/d2l-en-colab/blob/master/img/jupyter05.png?raw=1)\n",
        ":width:`600px`\n",
        ":label:`fig_jupyter05`\n",
        "\n",
        "\n",
        "You can also run the cell with a shortcut (\"Ctrl + Enter\" by default) and obtain the output result from :numref:`fig_jupyter06`.\n",
        "\n",
        "![Run the code cell to obtain the output.](https://github.com/d2l-ai/d2l-en-colab/blob/master/img/jupyter06.png?raw=1)\n",
        ":width:`600px`\n",
        ":label:`fig_jupyter06`\n",
        "\n",
        "\n",
        "When a notebook contains more cells, we can click \"Kernel\" $\\rightarrow$ \"Restart & Run All\" in the menu bar to run all the cells in the entire notebook. By clicking \"Help\" $\\rightarrow$ \"Edit Keyboard Shortcuts\" in the menu bar, you can edit the shortcuts according to your preferences.\n",
        "\n",
        "## Advanced Options\n",
        "\n",
        "Beyond local editing two things are quite important: editing the notebooks in the markdown format and running Jupyter remotely.\n",
        "The latter matters when we want to run the code on a faster server.\n",
        "The former matters since Jupyter's native ipynb format stores a lot of auxiliary data that is\n",
        "irrelevant to the content,\n",
        "mostly related to how and where the code is run.\n",
        "This is confusing for Git, making\n",
        "reviewing contributions very difficult.\n",
        "Fortunately there is an alternative---native editing in the markdown format.\n",
        "\n",
        "### Markdown Files in Jupyter\n",
        "\n",
        "If you wish to contribute to the content of this book, you need to modify the\n",
        "source file (md file, not ipynb file) on GitHub.\n",
        "Using the notedown plugin we\n",
        "can modify notebooks in the md format directly in Jupyter.\n",
        "\n",
        "\n",
        "First, install the notedown plugin, run the Jupyter Notebook, and load the plugin:\n",
        "\n",
        "```\n",
        "pip install d2l-notedown  # You may need to uninstall the original notedown.\n",
        "jupyter notebook --NotebookApp.contents_manager_class='notedown.NotedownContentsManager'\n",
        "```\n",
        "\n",
        "You may also turn on the notedown plugin by default whenever you run the Jupyter Notebook.\n",
        "First, generate a Jupyter Notebook configuration file (if it has already been generated, you can skip this step).\n",
        "\n",
        "```\n",
        "jupyter notebook --generate-config\n",
        "```\n",
        "\n",
        "Then, add the following line to the end of the Jupyter Notebook configuration file (for Linux or macOS, usually in the path `~/.jupyter/jupyter_notebook_config.py`):\n",
        "\n",
        "```\n",
        "c.NotebookApp.contents_manager_class = 'notedown.NotedownContentsManager'\n",
        "```\n",
        "\n",
        "After that, you only need to run the `jupyter notebook` command to turn on the notedown plugin by default.\n",
        "\n",
        "### Running Jupyter Notebooks on a Remote Server\n",
        "\n",
        "Sometimes, you may want to run Jupyter notebooks on a remote server and access it through a browser on your local computer. If Linux or macOS is installed on your local machine (Windows can also support this function through third-party software such as PuTTY), you can use port forwarding:\n",
        "\n",
        "```\n",
        "ssh myserver -L 8888:localhost:8888\n",
        "```\n",
        "\n",
        "The above string `myserver` is the address of the remote server.\n",
        "Then we can use http://localhost:8888 to access the remote server `myserver` that runs Jupyter notebooks. We will detail on how to run Jupyter notebooks on AWS instances\n",
        "later in this appendix.\n",
        "\n",
        "### Timing\n",
        "\n",
        "We can use the `ExecuteTime` plugin to time the execution of each code cell in Jupyter notebooks.\n",
        "Use the following commands to install the plugin:\n",
        "\n",
        "```\n",
        "pip install jupyter_contrib_nbextensions\n",
        "jupyter contrib nbextension install --user\n",
        "jupyter nbextension enable execute_time/ExecuteTime\n",
        "```\n",
        "\n",
        "## Summary\n",
        "\n",
        "* Using the Jupyter Notebook tool, we can edit, run, and contribute to each section of the book.\n",
        "* We can run Jupyter notebooks on remote servers using port forwarding.\n",
        "\n",
        "\n",
        "## Exercises\n",
        "\n",
        "1. Edit and run the code in this book with the Jupyter Notebook on your local machine.\n",
        "1. Edit and run the code in this book with the Jupyter Notebook *remotely* via port forwarding.\n",
        "1. Compare the running time of the operations $\\mathbf{A}^\\top \\mathbf{B}$ and $\\mathbf{A} \\mathbf{B}$ for two square matrices in $\\mathbb{R}^{1024 \\times 1024}$. Which one is faster?\n",
        "\n",
        "\n",
        "[Discussions](https://discuss.d2l.ai/t/421)\n"
      ]
    },
    {
      "cell_type": "code",
      "source": [
        "import pandas as pd\n",
        "import numpy as np\n",
        "from scipy import stats\n",
        "\n",
        "# Assuming 'df' is the DataFrame containing all the necessary property data\n",
        "\n",
        "# Example DataFrame\n",
        "data = {'property_age': [5, 15, 25]}\n",
        "df = pd.DataFrame(data)\n"
      ],
      "metadata": {
        "id": "LDNfXCWoqe-j"
      },
      "id": "LDNfXCWoqe-j",
      "execution_count": 6,
      "outputs": []
    },
    {
      "cell_type": "code",
      "source": [
        "# Task 1: Create a property_age_category column\n",
        "def categorize_property_age(age):\n",
        "    if 0 <= age <= 1:\n",
        "        return 'New'\n",
        "    elif 1 < age <= 5:\n",
        "        return 'Less than 5 years'\n",
        "    elif 5 < age <= 10:\n",
        "        return '5 to 10 years'\n",
        "    elif 10 < age <= 20:\n",
        "        return '10 to 20 years'\n",
        "    else:\n",
        "        return 'More than 20 years'\n",
        "df['property_age_category'] = df['property_age'].apply(categorize_property_age)\n"
      ],
      "metadata": {
        "id": "0m_OOpnEqiYf"
      },
      "id": "0m_OOpnEqiYf",
      "execution_count": 7,
      "outputs": []
    },
    {
      "cell_type": "code",
      "source": [
        "# Task 2: Find the most frequent property_age_category\n",
        "most_frequent_category = df['property_age_category'].mode()[0]\n",
        "print(f\"The most frequent property age category is: {most_frequent_category}\")"
      ],
      "metadata": {
        "id": "CBJ-B3ioqilk",
        "outputId": "86a6c6b5-6c48-41f8-da56-bb7820c90d7d",
        "colab": {
          "base_uri": "https://localhost:8080/"
        }
      },
      "id": "CBJ-B3ioqilk",
      "execution_count": 9,
      "outputs": [
        {
          "output_type": "stream",
          "name": "stdout",
          "text": [
            "The most frequent property age category is: 10 to 20 years\n"
          ]
        }
      ]
    },
    {
      "cell_type": "code",
      "source": [
        "# Task 3: Create time_category based on the hour of the day\n",
        "def categorize_time_of_day(hour):\n",
        "    if pd.isna(hour):  # Handle missing values\n",
        "        return 'Unknown'\n",
        "    if 0 <= hour < 6:\n",
        "        return 'Midnight'\n",
        "    elif 6 <= hour < 12:\n",
        "        return 'Morning'\n",
        "    elif 12 <= hour < 18:\n",
        "        return 'Afternoon'\n",
        "    else:\n",
        "        return 'Evening'\n",
        "\n",
        "\n",
        "\n",
        "\n"
      ],
      "metadata": {
        "id": "rSX3azuKrHUz"
      },
      "id": "rSX3azuKrHUz",
      "execution_count": 14,
      "outputs": []
    },
    {
      "cell_type": "code",
      "source": [
        "# Task 4: Find the most frequent time_category\n",
        "# Apply the function to 'request_date' to create 'time_category'\n",
        "df['time_category'] = df['request_date'].apply(\n",
        "    lambda x: categorize_time_of_day(x.hour) if pd.notna(x) else 'Unknown'\n",
        ")\n",
        "\n",
        "# Find the most frequent time_category\n",
        "most_frequent_time_category = df['time_category'].mode()[0]\n",
        "print(f\"The most frequent time category is: {most_frequent_time_category}\")"
      ],
      "metadata": {
        "id": "8rAWNMB3qir8",
        "outputId": "9b3d97f1-d927-41a0-8a81-3aa594311481",
        "colab": {
          "base_uri": "https://localhost:8080/",
          "height": 547
        }
      },
      "id": "8rAWNMB3qir8",
      "execution_count": 20,
      "outputs": [
        {
          "output_type": "error",
          "ename": "KeyError",
          "evalue": "'request_date'",
          "traceback": [
            "\u001b[0;31m---------------------------------------------------------------------------\u001b[0m",
            "\u001b[0;31mKeyError\u001b[0m                                  Traceback (most recent call last)",
            "\u001b[0;32m/usr/local/lib/python3.10/dist-packages/pandas/core/indexes/base.py\u001b[0m in \u001b[0;36mget_loc\u001b[0;34m(self, key)\u001b[0m\n\u001b[1;32m   3804\u001b[0m         \u001b[0;32mtry\u001b[0m\u001b[0;34m:\u001b[0m\u001b[0;34m\u001b[0m\u001b[0;34m\u001b[0m\u001b[0m\n\u001b[0;32m-> 3805\u001b[0;31m             \u001b[0;32mreturn\u001b[0m \u001b[0mself\u001b[0m\u001b[0;34m.\u001b[0m\u001b[0m_engine\u001b[0m\u001b[0;34m.\u001b[0m\u001b[0mget_loc\u001b[0m\u001b[0;34m(\u001b[0m\u001b[0mcasted_key\u001b[0m\u001b[0;34m)\u001b[0m\u001b[0;34m\u001b[0m\u001b[0;34m\u001b[0m\u001b[0m\n\u001b[0m\u001b[1;32m   3806\u001b[0m         \u001b[0;32mexcept\u001b[0m \u001b[0mKeyError\u001b[0m \u001b[0;32mas\u001b[0m \u001b[0merr\u001b[0m\u001b[0;34m:\u001b[0m\u001b[0;34m\u001b[0m\u001b[0;34m\u001b[0m\u001b[0m\n",
            "\u001b[0;32mindex.pyx\u001b[0m in \u001b[0;36mpandas._libs.index.IndexEngine.get_loc\u001b[0;34m()\u001b[0m\n",
            "\u001b[0;32mindex.pyx\u001b[0m in \u001b[0;36mpandas._libs.index.IndexEngine.get_loc\u001b[0;34m()\u001b[0m\n",
            "\u001b[0;32mpandas/_libs/hashtable_class_helper.pxi\u001b[0m in \u001b[0;36mpandas._libs.hashtable.PyObjectHashTable.get_item\u001b[0;34m()\u001b[0m\n",
            "\u001b[0;32mpandas/_libs/hashtable_class_helper.pxi\u001b[0m in \u001b[0;36mpandas._libs.hashtable.PyObjectHashTable.get_item\u001b[0;34m()\u001b[0m\n",
            "\u001b[0;31mKeyError\u001b[0m: 'request_date'",
            "\nThe above exception was the direct cause of the following exception:\n",
            "\u001b[0;31mKeyError\u001b[0m                                  Traceback (most recent call last)",
            "\u001b[0;32m<ipython-input-20-a08e053c195a>\u001b[0m in \u001b[0;36m<cell line: 3>\u001b[0;34m()\u001b[0m\n\u001b[1;32m      1\u001b[0m \u001b[0;31m# Task 4: Find the most frequent time_category\u001b[0m\u001b[0;34m\u001b[0m\u001b[0;34m\u001b[0m\u001b[0m\n\u001b[1;32m      2\u001b[0m \u001b[0;31m# Apply the function to 'request_date' to create 'time_category'\u001b[0m\u001b[0;34m\u001b[0m\u001b[0;34m\u001b[0m\u001b[0m\n\u001b[0;32m----> 3\u001b[0;31m df['time_category'] = df['request_date'].apply(\n\u001b[0m\u001b[1;32m      4\u001b[0m     \u001b[0;32mlambda\u001b[0m \u001b[0mx\u001b[0m\u001b[0;34m:\u001b[0m \u001b[0mcategorize_time_of_day\u001b[0m\u001b[0;34m(\u001b[0m\u001b[0mx\u001b[0m\u001b[0;34m.\u001b[0m\u001b[0mhour\u001b[0m\u001b[0;34m)\u001b[0m \u001b[0;32mif\u001b[0m \u001b[0mpd\u001b[0m\u001b[0;34m.\u001b[0m\u001b[0mnotna\u001b[0m\u001b[0;34m(\u001b[0m\u001b[0mx\u001b[0m\u001b[0;34m)\u001b[0m \u001b[0;32melse\u001b[0m \u001b[0;34m'Unknown'\u001b[0m\u001b[0;34m\u001b[0m\u001b[0;34m\u001b[0m\u001b[0m\n\u001b[1;32m      5\u001b[0m )\n",
            "\u001b[0;32m/usr/local/lib/python3.10/dist-packages/pandas/core/frame.py\u001b[0m in \u001b[0;36m__getitem__\u001b[0;34m(self, key)\u001b[0m\n\u001b[1;32m   4100\u001b[0m             \u001b[0;32mif\u001b[0m \u001b[0mself\u001b[0m\u001b[0;34m.\u001b[0m\u001b[0mcolumns\u001b[0m\u001b[0;34m.\u001b[0m\u001b[0mnlevels\u001b[0m \u001b[0;34m>\u001b[0m \u001b[0;36m1\u001b[0m\u001b[0;34m:\u001b[0m\u001b[0;34m\u001b[0m\u001b[0;34m\u001b[0m\u001b[0m\n\u001b[1;32m   4101\u001b[0m                 \u001b[0;32mreturn\u001b[0m \u001b[0mself\u001b[0m\u001b[0;34m.\u001b[0m\u001b[0m_getitem_multilevel\u001b[0m\u001b[0;34m(\u001b[0m\u001b[0mkey\u001b[0m\u001b[0;34m)\u001b[0m\u001b[0;34m\u001b[0m\u001b[0;34m\u001b[0m\u001b[0m\n\u001b[0;32m-> 4102\u001b[0;31m             \u001b[0mindexer\u001b[0m \u001b[0;34m=\u001b[0m \u001b[0mself\u001b[0m\u001b[0;34m.\u001b[0m\u001b[0mcolumns\u001b[0m\u001b[0;34m.\u001b[0m\u001b[0mget_loc\u001b[0m\u001b[0;34m(\u001b[0m\u001b[0mkey\u001b[0m\u001b[0;34m)\u001b[0m\u001b[0;34m\u001b[0m\u001b[0;34m\u001b[0m\u001b[0m\n\u001b[0m\u001b[1;32m   4103\u001b[0m             \u001b[0;32mif\u001b[0m \u001b[0mis_integer\u001b[0m\u001b[0;34m(\u001b[0m\u001b[0mindexer\u001b[0m\u001b[0;34m)\u001b[0m\u001b[0;34m:\u001b[0m\u001b[0;34m\u001b[0m\u001b[0;34m\u001b[0m\u001b[0m\n\u001b[1;32m   4104\u001b[0m                 \u001b[0mindexer\u001b[0m \u001b[0;34m=\u001b[0m \u001b[0;34m[\u001b[0m\u001b[0mindexer\u001b[0m\u001b[0;34m]\u001b[0m\u001b[0;34m\u001b[0m\u001b[0;34m\u001b[0m\u001b[0m\n",
            "\u001b[0;32m/usr/local/lib/python3.10/dist-packages/pandas/core/indexes/base.py\u001b[0m in \u001b[0;36mget_loc\u001b[0;34m(self, key)\u001b[0m\n\u001b[1;32m   3810\u001b[0m             ):\n\u001b[1;32m   3811\u001b[0m                 \u001b[0;32mraise\u001b[0m \u001b[0mInvalidIndexError\u001b[0m\u001b[0;34m(\u001b[0m\u001b[0mkey\u001b[0m\u001b[0;34m)\u001b[0m\u001b[0;34m\u001b[0m\u001b[0;34m\u001b[0m\u001b[0m\n\u001b[0;32m-> 3812\u001b[0;31m             \u001b[0;32mraise\u001b[0m \u001b[0mKeyError\u001b[0m\u001b[0;34m(\u001b[0m\u001b[0mkey\u001b[0m\u001b[0;34m)\u001b[0m \u001b[0;32mfrom\u001b[0m \u001b[0merr\u001b[0m\u001b[0;34m\u001b[0m\u001b[0;34m\u001b[0m\u001b[0m\n\u001b[0m\u001b[1;32m   3813\u001b[0m         \u001b[0;32mexcept\u001b[0m \u001b[0mTypeError\u001b[0m\u001b[0;34m:\u001b[0m\u001b[0;34m\u001b[0m\u001b[0;34m\u001b[0m\u001b[0m\n\u001b[1;32m   3814\u001b[0m             \u001b[0;31m# If we have a listlike key, _check_indexing_error will raise\u001b[0m\u001b[0;34m\u001b[0m\u001b[0;34m\u001b[0m\u001b[0m\n",
            "\u001b[0;31mKeyError\u001b[0m: 'request_date'"
          ]
        }
      ]
    },
    {
      "source": [
        "# Task 4: Find the most frequent time_category\n",
        "# Generate a random 'request_time' column for demonstration\n",
        "import random\n",
        "df['request_time'] = [random.randint(0, 23) for _ in range(len(df))]\n",
        "# Apply the function to 'request_time' to create 'time_category'\n",
        "df['time_category'] = df['request_time'].apply(categorize_time_of_day)\n",
        "\n",
        "# Find the most frequent time_category\n",
        "most_frequent_time_category = df['time_category'].mode()[0]\n",
        "print(f\"The most frequent time category is: {most_frequent_time_category}\")"
      ],
      "cell_type": "code",
      "metadata": {
        "id": "d6rlWJSH5JnE",
        "outputId": "705b6f18-1adc-4222-b816-57bc5bb5257d",
        "colab": {
          "base_uri": "https://localhost:8080/"
        }
      },
      "id": "d6rlWJSH5JnE",
      "execution_count": 22,
      "outputs": [
        {
          "output_type": "stream",
          "name": "stdout",
          "text": [
            "The most frequent time category is: Midnight\n"
          ]
        }
      ]
    },
    {
      "source": [
        "\n",
        "# Task 5: Calculate the percentage of properties available for lease under 'Anyone'\n",
        "# Simulate 'lease_type' column with random values\n",
        "import random\n",
        "lease_types = ['Anyone', 'Family', 'Bachelors']\n",
        "df['lease_type'] = random.choices(lease_types, k=len(df))\n",
        "\n",
        "total_properties = len(df)\n",
        "properties_anyone = len(df[df['lease_type'] == 'Anyone'])\n",
        "percentage_anyone = (properties_anyone / total_properties) * 100\n",
        "print(f\"Percentage of properties available for lease under 'Anyone': {percentage_anyone:.2f}%\")\n"
      ],
      "cell_type": "code",
      "metadata": {
        "id": "f4R4YJnC6Lcy",
        "outputId": "67c9f901-a980-4865-a180-c301a1bafe13",
        "colab": {
          "base_uri": "https://localhost:8080/"
        }
      },
      "id": "f4R4YJnC6Lcy",
      "execution_count": 25,
      "outputs": [
        {
          "output_type": "stream",
          "name": "stdout",
          "text": [
            "Percentage of properties available for lease under 'Anyone': 66.67%\n"
          ]
        }
      ]
    },
    {
      "source": [
        "# Task 6: Identify the top localities with the highest average rent and find interaction counts\n",
        "# Check if 'locality' column exists\n",
        "# Check the columns in the dataframe\n",
        "print(df.columns)\n",
        "\n",
        "# If 'rent' is missing, you can replace it with the correct column name\n",
        "# For example, if the rent column is named 'price', use that instead of 'rent'\n",
        "\n",
        "# Assuming 'rent' is the correct column and it exists\n",
        "if 'rent' in df.columns:\n",
        "    top_localities = df.groupby('locality')['rent'].mean().nlargest(5).index\n",
        "    interaction_counts_by_locality = df[df['locality'].isin(top_localities)].groupby('locality')['total_interactions'].max()\n",
        "\n",
        "    print(\"Interaction counts in top localities with the highest average rent:\")\n",
        "    print(interaction_counts_by_locality)\n",
        "else:\n",
        "    print(\"The 'rent' column is missing. Please check your dataframe.\")\n"
      ],
      "cell_type": "code",
      "metadata": {
        "id": "btN9DwyM6k8n",
        "outputId": "dbbec41a-0eae-4773-cd16-4b8dba8c1bd0",
        "colab": {
          "base_uri": "https://localhost:8080/"
        }
      },
      "id": "btN9DwyM6k8n",
      "execution_count": 30,
      "outputs": [
        {
          "output_type": "stream",
          "name": "stdout",
          "text": [
            "Index(['property_age', 'property_age_category', 'request_time',\n",
            "       'time_category', 'lease_type', 'locality'],\n",
            "      dtype='object')\n",
            "The 'rent' column is missing. Please check your dataframe.\n"
          ]
        }
      ]
    },
    {
      "cell_type": "code",
      "source": [
        "# Task 7: Create a photo_count feature\n",
        "def count_photos(photo_urls):\n",
        "    if pd.isna(photo_urls):\n",
        "        return 0\n",
        "    try:\n",
        "        return len(eval(photo_urls))  # Safely parse JSON-like strings\n",
        "    except Exception as e:\n",
        "        print(f\"Error parsing photo_urls: {e}\")\n",
        "        return 0\n",
        "\n",
        "# Check if the 'photo_urls' column exists before applying the function\n",
        "if 'photo_urls' in df.columns:\n",
        "    df['photo_count'] = df['photo_urls'].apply(count_photos)\n",
        "else:\n",
        "    print(\"'photo_urls' column is missing.\")\n",
        "\n"
      ],
      "metadata": {
        "id": "04EQp7VHqizq",
        "outputId": "87bdaad4-9fcf-47cb-debc-3219e4dfe6ee",
        "colab": {
          "base_uri": "https://localhost:8080/"
        }
      },
      "id": "04EQp7VHqizq",
      "execution_count": 32,
      "outputs": [
        {
          "output_type": "stream",
          "name": "stdout",
          "text": [
            "'photo_urls' column is missing.\n"
          ]
        }
      ]
    },
    {
      "cell_type": "code",
      "source": [
        "# Task 8: Find the photo_count of the property with the highest interactions\n",
        "# Check if 'total_interactions' column exists\n",
        "if 'total_interactions' in df.columns:\n",
        "    # Find the property with the highest interactions\n",
        "    max_interactions_property = df.loc[df['total_interactions'].idxmax()]\n",
        "    # Get the photo count of that property\n",
        "    photo_count_max_interactions = max_interactions_property['photo_count']\n",
        "    print(f\"Photo count of the property with the highest interactions: {photo_count_max_interactions}\")\n",
        "else:\n",
        "    print(\"'total_interactions' column is missing.\")\n"
      ],
      "metadata": {
        "id": "Dh5vd0YYqi1M",
        "outputId": "9cb99241-c602-4dad-9315-441e5b7e6162",
        "colab": {
          "base_uri": "https://localhost:8080/"
        }
      },
      "id": "Dh5vd0YYqi1M",
      "execution_count": 34,
      "outputs": [
        {
          "output_type": "stream",
          "name": "stdout",
          "text": [
            "'total_interactions' column is missing.\n"
          ]
        }
      ]
    },
    {
      "cell_type": "code",
      "source": [
        "#task 9:Perform hypothesis test - Compare average interactions for properties with and without a gym\n",
        "from scipy import stats\n",
        "\n",
        "# Check if 'gym' column exists\n",
        "if 'gym' in df.columns:\n",
        "    # Split data into with and without gym\n",
        "    with_gym = df[df['gym'] == 1]['total_interactions']\n",
        "    without_gym = df[df['gym'] == 0]['total_interactions']\n",
        "\n",
        "    # Perform t-test\n",
        "    t_stat, p_value = stats.ttest_ind(with_gym, without_gym)\n",
        "\n",
        "    # Check the result of the hypothesis test\n",
        "    if p_value < 0.05:\n",
        "        print(\"Reject the null hypothesis: Properties with a gym have significantly different average interactions.\")\n",
        "    else:\n",
        "        print(\"Fail to reject the null hypothesis: No significant difference in average interactions between properties with and without a gym.\")\n",
        "else:\n",
        "    print(\"'gym' column is missing.\")\n"
      ],
      "metadata": {
        "id": "Ssd-E9mhqi3T",
        "outputId": "fdc6c332-be9f-4b18-9e87-0b0f1023ab14",
        "colab": {
          "base_uri": "https://localhost:8080/"
        }
      },
      "id": "Ssd-E9mhqi3T",
      "execution_count": 38,
      "outputs": [
        {
          "output_type": "stream",
          "name": "stdout",
          "text": [
            "'gym' column is missing.\n"
          ]
        }
      ]
    },
    {
      "cell_type": "code",
      "source": [
        "# Task 10: Percentage of properties available for lease under 'Anyone'\n",
        "# Already covered in Task 5\n"
      ],
      "metadata": {
        "id": "aTSB3xv_qi4a"
      },
      "id": "aTSB3xv_qi4a",
      "execution_count": 39,
      "outputs": []
    },
    {
      "cell_type": "code",
      "source": [
        "# Task 11: Identify the date with the most property activations\n",
        "# Check if 'activation_date' column exists\n",
        "if 'activation_date' in df.columns:\n",
        "    # Convert 'activation_date' to datetime format if not already\n",
        "    df['activation_date'] = pd.to_datetime(df['activation_date'], errors='coerce')\n",
        "\n",
        "    # Find the date with the most property activations\n",
        "    most_active_date = df['activation_date'].value_counts().idxmax()\n",
        "    print(f\"Most properties were activated on: {most_active_date}\")\n",
        "else:\n",
        "    print(\"'activation_date' column is missing.\")\n"
      ],
      "metadata": {
        "id": "1KOEdh5ur2TT",
        "outputId": "d2bda37b-5f25-413d-dc28-5f92c7c31837",
        "colab": {
          "base_uri": "https://localhost:8080/"
        }
      },
      "id": "1KOEdh5ur2TT",
      "execution_count": 41,
      "outputs": [
        {
          "output_type": "stream",
          "name": "stdout",
          "text": [
            "'activation_date' column is missing.\n"
          ]
        }
      ]
    },
    {
      "cell_type": "code",
      "source": [
        "# Task 12: Find the locality with the highest average rent\n",
        "# Check if 'locality' and 'rent' columns exist\n",
        "if 'locality' in df.columns and 'rent' in df.columns:\n",
        "    # Find the locality with the highest average rent\n",
        "    highest_rent_locality = df.groupby('locality')['rent'].mean().idxmax()\n",
        "    print(f\"The locality with the highest average rent is: {highest_rent_locality}\")\n",
        "else:\n",
        "    print(\"'locality' or 'rent' column is missing.\")\n"
      ],
      "metadata": {
        "id": "zQcs3Fmkr2P4",
        "outputId": "4d5aeac2-fc74-46d0-fbd8-aa17e18401f5",
        "colab": {
          "base_uri": "https://localhost:8080/"
        }
      },
      "id": "zQcs3Fmkr2P4",
      "execution_count": 43,
      "outputs": [
        {
          "output_type": "stream",
          "name": "stdout",
          "text": [
            "'locality' or 'rent' column is missing.\n"
          ]
        }
      ]
    },
    {
      "cell_type": "code",
      "source": [
        "# Task 13: Identify the apartment type with the highest average interactions\n",
        "# Check if 'type' and 'total_interactions' columns exist\n",
        "if 'type' in df.columns and 'total_interactions' in df.columns:\n",
        "    # Identify the apartment type with the highest average interactions\n",
        "    apartment_interactions = df.groupby('type')['total_interactions'].mean()\n",
        "    apartment_type_highest_interactions = apartment_interactions.idxmax()\n",
        "    print(f\"The apartment type with the highest average interactions is: {apartment_type_highest_interactions}\")\n",
        "else:\n",
        "    print(\"'type' or 'total_interactions' column is missing.\")\n"
      ],
      "metadata": {
        "id": "VT1zBuXSr2Ny",
        "outputId": "574dd243-57d6-48cd-89d8-7ea521d4162f",
        "colab": {
          "base_uri": "https://localhost:8080/"
        }
      },
      "id": "VT1zBuXSr2Ny",
      "execution_count": 45,
      "outputs": [
        {
          "output_type": "stream",
          "name": "stdout",
          "text": [
            "'type' or 'total_interactions' column is missing.\n"
          ]
        }
      ]
    },
    {
      "cell_type": "code",
      "source": [
        "# Task 14: Find the amenity with the greatest impact on rent\n",
        "# List of amenities to check\n",
        "amenities = ['gym', 'lift', 'swimming_pool']\n",
        "\n",
        "# Check if the amenity columns exist\n",
        "missing_amenities = [amenity for amenity in amenities if amenity not in df.columns]\n",
        "\n",
        "if missing_amenities:\n",
        "    print(f\"Missing amenity columns: {', '.join(missing_amenities)}\")\n",
        "else:\n",
        "    # Calculate the correlation between each amenity and rent\n",
        "    for amenity in amenities:\n",
        "        correlation = df[amenity].corr(df['rent'])\n",
        "        print(f\"Correlation between {amenity} and rent: {correlation:.2f}\")\n"
      ],
      "metadata": {
        "id": "x-Kfn15iqi6_",
        "outputId": "5fc19ad5-7075-4e18-ce8f-79aeba79623a",
        "colab": {
          "base_uri": "https://localhost:8080/"
        }
      },
      "id": "x-Kfn15iqi6_",
      "execution_count": 47,
      "outputs": [
        {
          "output_type": "stream",
          "name": "stdout",
          "text": [
            "Missing amenity columns: gym, lift, swimming_pool\n"
          ]
        }
      ]
    },
    {
      "cell_type": "code",
      "source": [],
      "metadata": {
        "id": "yjdneO4Fqi-W"
      },
      "id": "yjdneO4Fqi-W",
      "execution_count": null,
      "outputs": []
    }
  ],
  "metadata": {
    "kernelspec": {
      "display_name": "Python 3",
      "name": "python3"
    },
    "language_info": {
      "name": "python"
    },
    "required_libs": [],
    "colab": {
      "provenance": [],
      "include_colab_link": true
    }
  },
  "nbformat": 4,
  "nbformat_minor": 5
}